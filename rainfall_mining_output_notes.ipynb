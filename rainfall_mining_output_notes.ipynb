{
 "cells": [
  {
   "cell_type": "markdown",
   "id": "81572728",
   "metadata": {},
   "source": [
    "### Rainfall & Mining Production Forecasting (Synthetic Dataset)\n",
    "This project explores how rainfall impacts mining production using a synthetic time series dataset. It simulates daily data for 2022 and applies machine learning models to forecast production load and analyze threshold effects of rainfall."
   ]
  },
  {
   "cell_type": "markdown",
   "id": "5bd6c644",
   "metadata": {},
   "source": [
    "### Dataset Overview\n",
    "\n",
    "The dataset contains daily synthetic data for 2022, engineered to support time series modeling.\n",
    "\n",
    "#### Column Name:\tDescription\n",
    "\n",
    "Date:\tCalendar date\n",
    "\n",
    "1_day Lag Load:\tLagged mining production load (1-day delay)\n",
    "\n",
    "daily_rain:\tSimulated daily rainfall in mm\n",
    "\n",
    "Cumulative_rainfall_3_days:\tRainfall summed over the current and previous two days\n"
   ]
  },
  {
   "cell_type": "markdown",
   "id": "21eaf1a8",
   "metadata": {},
   "source": [
    "### Modeling Approach\n",
    "\n",
    "A Random Forest Regressor was trained using time series cross-validation to predict mining production load from rainfall and lag features.\n",
    "\n",
    "{\n",
    "    'max_depth': 10,\n",
    "    'min_samples_leaf': 2,\n",
    "    'min_samples_split': 5,\n",
    "    'n_estimators': 200\n",
    "}\n"
   ]
  },
  {
   "cell_type": "markdown",
   "id": "75293d4e",
   "metadata": {},
   "source": [
    "### Model Performance\n",
    "\n",
    "Mean Absolute Error (MAE): 3.01\n",
    "\n",
    "Mean Squared Error (MSE): 16.06\n",
    "\n",
    "Root Mean Squared Error (RMSE): 4.01\n",
    "\n",
    "Adjusted R-squared: 0.707\n",
    "\n",
    "### Threshold Analysis\n",
    "To understand how rainfall influences production thresholds:\n",
    "\n",
    "Production is expected to drop below 6,650 tonnes when 3-day cumulative rainfall is ~0.00 mm.\n",
    "The largest production drop occurred at 57.01 mm cumulative rainfall, with a decrease of -4.48 tonnes (-20.21%)."
   ]
  },
  {
   "cell_type": "markdown",
   "id": "312d6511",
   "metadata": {},
   "source": [
    "### Tools & Technologies\n",
    "Python: Pandas, NumPy, Scikit-learn, Matplotlib\n",
    "Modeling: Random Forest, TimeSeriesSplit CV\n",
    "Data Format: Excel (.xlsx)\n",
    "Notebook: Jupyter (for reproducibility and documentation)\n",
    "\n",
    "### Project Goals\n",
    "Simulate realistic rainfall & mining data\n",
    "Train and evaluate time series forecasting models\n",
    "Identify thresholds where rainfall impacts production\n",
    "\n",
    "### Notes\n",
    "This dataset is fully synthetic and created for demonstration purposes only. This project is part of a personal GitHub portfolio to showcase data modeling, feature engineering, and interpretability techniques."
   ]
  }
 ],
 "metadata": {
  "kernelspec": {
   "display_name": "Python 3 (ipykernel)",
   "language": "python",
   "name": "python3"
  },
  "language_info": {
   "codemirror_mode": {
    "name": "ipython",
    "version": 3
   },
   "file_extension": ".py",
   "mimetype": "text/x-python",
   "name": "python",
   "nbconvert_exporter": "python",
   "pygments_lexer": "ipython3",
   "version": "3.10.9"
  }
 },
 "nbformat": 4,
 "nbformat_minor": 5
}
